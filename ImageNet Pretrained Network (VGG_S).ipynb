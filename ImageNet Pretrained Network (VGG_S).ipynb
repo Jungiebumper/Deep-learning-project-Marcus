{
 "cells": [
  {
   "cell_type": "markdown",
   "metadata": {},
   "source": [
    "# Introduction\n",
    "\n",
    "This example demonstrates using a network pretrained on ImageNet for classification. The model used was converted from the VGG_CNN_S model (http://arxiv.org/abs/1405.3531) in [Caffe's Model Zoo](https://github.com/BVLC/caffe/wiki/Model-Zoo). \n",
    "\n",
    "For details of the conversion process, see the example notebook \"Using a Caffe Pretrained Network - CIFAR10\"."
   ]
  },
  {
   "cell_type": "markdown",
   "metadata": {},
   "source": [
    "### License\n",
    "The model is licensed for non-commercial use only"
   ]
  },
  {
   "cell_type": "markdown",
   "metadata": {},
   "source": [
    "### Download the model (393 MB)"
   ]
  },
  {
   "cell_type": "code",
   "execution_count": 1,
   "metadata": {
    "collapsed": false
   },
   "outputs": [
    {
     "name": "stderr",
     "output_type": "stream",
     "text": [
      "/usr/local/lib/python2.7/dist-packages/matplotlib/font_manager.py:273: UserWarning: Matplotlib is building the font cache using fc-list. This may take a moment.\n",
      "  warnings.warn('Matplotlib is building the font cache using fc-list. This may take a moment.')\n"
     ]
    }
   ],
   "source": [
    "#!wget https://s3.amazonaws.com/lasagne/recipes/pretrained/imagenet/vgg_cnn_s.pkl\n",
    "import sys\n",
    "sys.path.append('../../coco/PythonAPI')\n",
    "import os\n",
    "from pycocotools.coco import COCO\n",
    "import numpy as np\n",
    "from numpy import reshape\n",
    "import skimage.io as io\n",
    "import matplotlib.pyplot as plt\n",
    "#modulename = importlib.machinery.SourceFileLoader('modulename','/Path/To/module.py').load_module()\n"
   ]
  },
  {
   "cell_type": "code",
   "execution_count": 2,
   "metadata": {
    "collapsed": false
   },
   "outputs": [],
   "source": [
    "import json\n",
    "with open('../../coco/annotations/instances_train2014.json') as data_file:\n",
    "    data = json.load(data_file)"
   ]
  },
  {
   "cell_type": "code",
   "execution_count": 3,
   "metadata": {
    "collapsed": false
   },
   "outputs": [
    {
     "name": "stdout",
     "output_type": "stream",
     "text": [
      "loading annotations into memory...\n",
      "Done (t=16.97s)\n",
      "creating index...\n",
      "index created!\n",
      "loading annotations into memory...\n",
      "Done (t=10.20s)\n",
      "creating index...\n",
      "index created!\n"
     ]
    }
   ],
   "source": [
    "dataDir='../../coco'\n",
    "dataType='train2014'\n",
    "annFile='%s/annotations/instances_%s.json'%(dataDir,dataType)\n",
    "cocoTrain=COCO(annFile)\n",
    "dataType='val2014'\n",
    "annFile='%s/annotations/instances_%s.json'%(dataDir,dataType)\n",
    "cocoVal=COCO(annFile)"
   ]
  },
  {
   "cell_type": "code",
   "execution_count": 4,
   "metadata": {
    "collapsed": true
   },
   "outputs": [],
   "source": [
    "#Define a function which can read images, resize them to height x width and save the resized image in place of the original\n",
    "from PIL import Image\n",
    "def resizer(directory,width,height):\n",
    "    i = 0\n",
    "    for filename in os.listdir(directory):\n",
    "        if i%1000 == 0:\n",
    "            print(i)\n",
    "        # Open the image file.\n",
    "        img = Image.open(os.path.join(directory, filename))\n",
    "        # Resize it.\n",
    "        img = img.resize((width, height), Image.BILINEAR)\n",
    "        # Save it back to disk.\n",
    "        img.save(os.path.join(directory, filename))\n",
    "        i += 1\n",
    "    print('Batch processing complete.')\n",
    "#resizer('../../coco/train2014',224,224)\n",
    "#resizer('../../coco/val2014',224,224)\n",
    "#resizer('../../coco/test2014',224,224)"
   ]
  },
  {
   "cell_type": "code",
   "execution_count": 5,
   "metadata": {
    "collapsed": false
   },
   "outputs": [],
   "source": [
    "#Define a function which checks if images have dimensions (height, width,3). If not, delete the image\n",
    "def wrongShapeDeleter(directory, height, width):\n",
    "    counter = 0\n",
    "    for filename in os.listdir(directory):\n",
    "        img = io.imread('%s/%s'%(directory,filename))\n",
    "        if img.shape != (height, width, 3):\n",
    "            counter += 1\n",
    "            #If the image has some other shape than (height, width), i.e. grayscale, we want to see it\n",
    "            if img.shape != (height, width):\n",
    "                print(filename, img.shape)\n",
    "            else:\n",
    "                os.remove('%s/%s'%(directory,filename))\n",
    "    print directory, counter\n",
    "#wrongShapeDeleter('../../coco/train2014',224,224)\n",
    "#wrongShapeDeleter('../../coco/val2014',224,224)\n",
    "#wrongShapeDeleter('../../coco/test2014',224,224)"
   ]
  },
  {
   "cell_type": "code",
   "execution_count": 6,
   "metadata": {
    "collapsed": false
   },
   "outputs": [
    {
     "name": "stdout",
     "output_type": "stream",
     "text": [
      "[1, 2, 3, 4, 5, 6, 7, 8, 9, 10, 11, 13, 14, 15, 16, 17, 18, 19, 20, 21, 22, 23, 24, 25, 27, 28, 31, 32, 33, 34, 35, 36, 37, 38, 39, 40, 41, 42, 43, 44, 46, 47, 48, 49, 50, 51, 52, 53, 54, 55, 56, 57, 58, 59, 60, 61, 62, 63, 64, 65, 67, 70, 72, 73, 74, 75, 76, 77, 78, 79, 80, 81, 82, 84, 85, 86, 87, 88, 89, 90]\n"
     ]
    }
   ],
   "source": [
    "cats = cocoTrain.loadCats(cocoTrain.getCatIds())\n",
    "#print(cats)\n",
    "validCatIds = [x['id'] for x in cats]\n",
    "print(validCatIds)\n",
    "yo = cocoTrain.loadImgs(185652)\n",
    "#print(yo[0]['id'])\n",
    "yo2 = cocoTrain.loadAnns(ids=[185652])\n",
    "#print(yo2[0]['category_id'])\n",
    "yoyo = cocoTrain.getImgIds()\n",
    "#print(yo2[0])"
   ]
  },
  {
   "cell_type": "code",
   "execution_count": 7,
   "metadata": {
    "collapsed": false
   },
   "outputs": [],
   "source": [
    "#Some image files have been deleted by us because they only contained 1 channel. \n",
    "#However, the function coco.getImgIds doesn't \"know\" this. \n",
    "#Therefore we must have a list of which files have been deleted.\n",
    "def deletedFileLister(directory,coco):\n",
    "    existingFileNames = os.listdir(directory)\n",
    "    allImgIds = coco.getImgIds()\n",
    "    deletedFileNames = []\n",
    "    for i in range(len(allImgIds)):\n",
    "        if i%1000==0:\n",
    "            print i\n",
    "        tempImg = coco.loadImgs(allImgIds[i])\n",
    "        if not(tempImg[0]['file_name'] in existingFileNames):\n",
    "            deletedFileNames.append(tempImg[0]['file_name'])\n",
    "    return deletedFileNames\n",
    "\n",
    "#trainDeletedFiles = deletedFileLister('../../coco/train2014', cocoTrain)\n",
    "#valDeletedFiles = deletedFileLister('../../coco/val2014', cocoVal)\n",
    "\n",
    "import pickle\n",
    "#with open('listsOfDeletedFiles','w') as f:\n",
    "#    pickle.dump([trainDeletedFiles,valDeletedFiles],f)\n",
    "allDeletedFiles = pickle.load(open('listsOfDeletedFiles', 'rb'))\n",
    "trainDeletedFiles = allDeletedFiles[0]\n",
    "valDeletedFiles = allDeletedFiles[1]"
   ]
  },
  {
   "cell_type": "code",
   "execution_count": 8,
   "metadata": {
    "collapsed": false
   },
   "outputs": [],
   "source": [
    "def getXandY(coco,minimumCatCount,validCatIds,fileDirectory,deletedFileNames):\n",
    "    allFileNames = os.listdir(fileDirectory)\n",
    "    allImgIds = coco.getImgIds()\n",
    "    singleCatImgIds = []\n",
    "    allAnnIds = coco.getAnnIds(imgIds=allImgIds);\n",
    "    myDict = {}\n",
    "    counter = 0\n",
    "    for i in range(len(allImgIds)):\n",
    "        #tempAnns = coco.loadAnns(ids=allAnnIds[i])\n",
    "        tempAnns = coco.loadAnns(coco.getAnnIds(imgIds=allImgIds[i]))\n",
    "        tempImg = coco.loadImgs(allImgIds[i])\n",
    "        #if(\"train\" in tempImg[0]['file_name']):\n",
    "        #    print \"Brarp brarp\",allImgIds[i], tempImg[0]['file_name']\n",
    "        allCategoriesList = []\n",
    "        #Find all categories associated with the current image\n",
    "        for x in tempAnns:\n",
    "            allCategoriesList.append(x['category_id'])\n",
    "        allCategoriesList = set(allCategoriesList)\n",
    "        #Images are included in training or validation set if they are associated with exactly one category \n",
    "        #and if they have not been deleted.\n",
    "        if len(allCategoriesList)==1 and not(tempImg[0]['file_name'] in deletedFileNames):\n",
    "            counter += 1\n",
    "            myDict[allImgIds[i]] = [tempAnns[0]['category_id'], tempImg[0]['file_name']]\n",
    "            singleCatImgIds.append(allImgIds[i])\n",
    "    allSingleCategories = [x[0] for x in list(myDict.values())]\n",
    "    categoryCounts = {x:allSingleCategories.count(x) for x in validCatIds}\n",
    "    plentifulCategories = [x for x in validCatIds if categoryCounts[x]>=minimumCatCount]\n",
    "    plentifulCategoryCounts = {x:categoryCounts[x] for x in plentifulCategories}\n",
    "    plentifulImageIds = [x for x in list(myDict.keys()) if myDict[x][0] in plentifulCategories]\n",
    "    plentifulDict = {k:myDict[k] for k in plentifulImageIds}\n",
    "    return [plentifulDict, plentifulCategories, plentifulCategoryCounts]\n",
    "\n",
    "trainList = getXandY(cocoTrain, 100, validCatIds, '../../coco/train2014', trainDeletedFiles)\n",
    "trainDict = trainList[0]\n",
    "#The validation set should only contain categories which are also in the training set. \n",
    "#Therefore we pass the category ids from the training set as validCatIds\n",
    "valList = getXandY(cocoVal, 50, trainList[1], '../../coco/val2014', valDeletedFiles)\n",
    "valDict = valList[0]\n",
    "num_classes = len(trainList[1])"
   ]
  },
  {
   "cell_type": "code",
   "execution_count": 9,
   "metadata": {
    "collapsed": false
   },
   "outputs": [
    {
     "name": "stdout",
     "output_type": "stream",
     "text": [
      "Number of images in training set: 15423\n",
      "Number of images in validation set: 7701\n",
      "Training and val. set have the same categories: True\n"
     ]
    }
   ],
   "source": [
    "print \"Number of images in training set:\",len(trainList[0]) \n",
    "print \"Number of images in validation set:\",len(valList[0])\n",
    "#Ensure that validation does not have less categories than training set\n",
    "print \"Training and val. set have the same categories:\", trainList[1]==valList[1] \n"
   ]
  },
  {
   "cell_type": "code",
   "execution_count": 10,
   "metadata": {
    "collapsed": false
   },
   "outputs": [],
   "source": [
    "dataDir = \"../../coco\"\n",
    "dataType = \"../../coco\"\n",
    "allFiles = os.listdir('../../coco/train2014')\n",
    "height = 224\n",
    "width = 224\n",
    "N = 1\n",
    "x_train = []\n",
    "x_train = np.empty([N,3,height,width])\n",
    "i = 0\n",
    "j = 0\n",
    "for filename in allFiles:\n",
    "    i += 1\n",
    "    if i>N-1:\n",
    "        break\n",
    "    if i%100 == 0:\n",
    "        print(i)\n",
    "    #print(i)\n",
    "    I = io.imread('%s/%s/%s'%(dataDir,'train2014',filename))\n",
    "    if I.shape == (height, width, 3):\n",
    "        x_train[j,:,:,:] = np.transpose(I,(2,0,1))\n",
    "        j += 1\n",
    "    else:\n",
    "        print(\"yo\",i)\n",
    "    #x_train[i,:,:,:] = np.transpose(io.imread('%s/%s/%s'%(dataDir,'train2014',filename)),(2,0,1))"
   ]
  },
  {
   "cell_type": "code",
   "execution_count": 11,
   "metadata": {
    "collapsed": false
   },
   "outputs": [
    {
     "data": {
      "text/plain": [
       "(1, 3, 224, 224)"
      ]
     },
     "execution_count": 11,
     "metadata": {},
     "output_type": "execute_result"
    }
   ],
   "source": [
    "x_train.shape"
   ]
  },
  {
   "cell_type": "code",
   "execution_count": 12,
   "metadata": {
    "collapsed": false
   },
   "outputs": [],
   "source": [
    "#print(x_train.shape)\n",
    "#plt.figure()\n",
    "#plt.imshow(I[0,:,:])\n",
    "#plt.show()"
   ]
  },
  {
   "cell_type": "markdown",
   "metadata": {},
   "source": [
    "# Setup"
   ]
  },
  {
   "cell_type": "code",
   "execution_count": 13,
   "metadata": {
    "collapsed": false
   },
   "outputs": [],
   "source": [
    "import numpy as np\n",
    "import matplotlib.pyplot as plt\n",
    "\n",
    "%matplotlib inline"
   ]
  },
  {
   "cell_type": "code",
   "execution_count": 14,
   "metadata": {
    "collapsed": false
   },
   "outputs": [
    {
     "name": "stdout",
     "output_type": "stream",
     "text": [
      "Couldn't import dot_parser, loading of dot files will not be possible.\n"
     ]
    },
    {
     "name": "stderr",
     "output_type": "stream",
     "text": [
      "Using gpu device 0: GRID K520 (CNMeM is disabled, cuDNN 4007)\n"
     ]
    }
   ],
   "source": [
    "import lasagne\n",
    "from lasagne.layers import InputLayer, DenseLayer, DropoutLayer\n",
    "from lasagne.layers.dnn import Conv2DDNNLayer as ConvLayer\n",
    "from lasagne.layers import MaxPool2DLayer as PoolLayer\n",
    "from lasagne.layers import LocalResponseNormalization2DLayer as NormLayer\n",
    "from lasagne.utils import floatX"
   ]
  },
  {
   "cell_type": "markdown",
   "metadata": {},
   "source": [
    "### Define the network"
   ]
  },
  {
   "cell_type": "code",
   "execution_count": 15,
   "metadata": {
    "collapsed": false
   },
   "outputs": [],
   "source": [
    "net = {}\n",
    "net['input'] = InputLayer((None, 3, 224, 224))\n",
    "net['conv1'] = ConvLayer(net['input'], num_filters=96, filter_size=7, stride=2, flip_filters=False)\n",
    "net['norm1'] = NormLayer(net['conv1'], alpha=0.0001) # caffe has alpha = alpha * pool_size\n",
    "net['pool1'] = PoolLayer(net['norm1'], pool_size=3, stride=3, ignore_border=False)\n",
    "net['conv2'] = ConvLayer(net['pool1'], num_filters=256, filter_size=5, flip_filters=False)\n",
    "net['pool2'] = PoolLayer(net['conv2'], pool_size=2, stride=2, ignore_border=False)\n",
    "net['conv3'] = ConvLayer(net['pool2'], num_filters=512, filter_size=3, pad=1, flip_filters=False)\n",
    "net['conv4'] = ConvLayer(net['conv3'], num_filters=512, filter_size=3, pad=1, flip_filters=False)\n",
    "net['conv5'] = ConvLayer(net['conv4'], num_filters=512, filter_size=3, pad=1, flip_filters=False)\n",
    "net['pool5'] = PoolLayer(net['conv5'], pool_size=3, stride=3, ignore_border=False)\n",
    "net['fc6'] = DenseLayer(net['pool5'], num_units=4096)\n",
    "net['drop6'] = DropoutLayer(net['fc6'], p=0.5)\n",
    "net['fc7'] = DenseLayer(net['drop6'], num_units=4096)\n",
    "net['drop7'] = DropoutLayer(net['fc7'], p=0.5)\n",
    "#net['fc8'] = DenseLayer(net['drop7'], num_units=1000, nonlinearity=lasagne.nonlinearities.softmax)\n",
    "net['fc8Modified'] = DenseLayer(net['drop7'], num_units=num_classes, nonlinearity=lasagne.nonlinearities.softmax)\n",
    "output_layer = net['fc8Modified']\n",
    "#output_layer = net['pool5']"
   ]
  },
  {
   "cell_type": "code",
   "execution_count": 17,
   "metadata": {
    "collapsed": false
   },
   "outputs": [
    {
     "name": "stdout",
     "output_type": "stream",
     "text": [
      "(10, (18432, 4096))\n",
      "(11, (4096,))\n",
      "(12, (4096, 4096))\n",
      "(13, (4096,))\n",
      "\n",
      "(0, (96, 3, 7, 7))\n",
      "(1, (96,))\n",
      "(2, (256, 96, 5, 5))\n",
      "(3, (256,))\n",
      "(4, (512, 256, 3, 3))\n",
      "(5, (512,))\n",
      "(6, (512, 512, 3, 3))\n",
      "(7, (512,))\n",
      "(8, (512, 512, 3, 3))\n",
      "(9, (512,))\n",
      "(10, (18432, 4096))\n",
      "(11, (4096,))\n",
      "(12, (4096, 4096))\n",
      "(13, (4096,))\n",
      "(14, (4096, 35))\n",
      "(15, (35,))\n"
     ]
    }
   ],
   "source": [
    "import pickle\n",
    "\n",
    "model = pickle.load(open('vgg_cnn_s.pkl'))\n",
    "CLASSES = model['synset words']\n",
    "MEAN_IMAGE = model['mean image']\n",
    "for i in range(10,len(model['values'])-2):\n",
    "    print(i, model['values'][i].shape)\n",
    "    model['values'][i].fill(0)\n",
    "    \n",
    "# If we do not cast to float32 we get this error: \n",
    "#TypeError: ('CudaNdarrayType(float32, vector), with dtype float32, \n",
    "#cannot store a value of dtype float64 without risking loss of precision.\n",
    "#If you do not mind, please cast your data to float32.'\n",
    "model['values'][14] = np.random.normal(0,1,(4096,num_classes)).astype(np.float32)\n",
    "model['values'][15] = np.random.normal(0,1,(num_classes,)).astype(np.float32)\n",
    "\n",
    "#lasagne.layers.set_all_param_values(output_layer, model['values'])\n",
    "#lasagne.layers.set_all_param_values(output_layer, model[\"values\"][0:10])\n",
    "print('')\n",
    "for i in range(len(model['values'])):\n",
    "    print(i, model['values'][i].shape)\n",
    "lasagne.layers.set_all_param_values(output_layer, model['values'])\n",
    "#lasagne.layers.get_all_param_values(output_layer)\n",
    "#lasagne.layers.set_all_param_values(output_layer, model[\"values\"][0:10]"
   ]
  },
  {
   "cell_type": "code",
   "execution_count": 18,
   "metadata": {
    "collapsed": false
   },
   "outputs": [],
   "source": [
    "import theano\n",
    "import theano.tensor as T\n",
    "#Setting up the graph in theano\n",
    "sym_x = T.tensor4('sym_x') # a symbolic variable, this is now a 4-D tensor.\n",
    "sym_t = T.ivector('sym_t') # a symbolic variable taking on the value of the target batch.\n",
    "\n",
    "# Retrieve network output\n",
    "train_out = lasagne.layers.get_output(output_layer, sym_x, deterministic=False)\n",
    "eval_out = lasagne.layers.get_output(output_layer, sym_x, deterministic=True)\n",
    "\n",
    "# Retrieve list of all trainable parameters in the network.\n",
    "all_params = lasagne.layers.get_all_params(output_layer, trainable=True)\n",
    "\n",
    "#Define our cost function\n",
    "cost = T.nnet.categorical_crossentropy(train_out+1e-8, sym_t).mean()\n",
    "\n",
    "# Let Theano do its magic and get all the gradients we need for training\n",
    "all_grads = T.grad(cost, all_params)\n",
    "\n",
    "# Set the update function for parameters \n",
    "updates = lasagne.updates.adam(all_grads, all_params, learning_rate=0.005)\n",
    "\n",
    "#f_val takes x and t and passes them to the cost function.\n",
    "f_val = theano.function([sym_x, sym_t],\n",
    "                         [cost],on_unused_input='warn')\n",
    "\n",
    "f_eval = theano.function([sym_x],\n",
    "                     eval_out, on_unused_input='warn')\n",
    "\n",
    "f_train = theano.function([sym_x, sym_t],\n",
    "                          [cost],\n",
    "                          updates=updates, on_unused_input='warn')"
   ]
  },
  {
   "cell_type": "code",
   "execution_count": 19,
   "metadata": {
    "collapsed": false
   },
   "outputs": [
    {
     "name": "stdout",
     "output_type": "stream",
     "text": [
      "('l_out', (1, 35))\n",
      "[[ 0.00573412  0.00189851  0.05137583  0.05160396  0.03242445  0.0148798\n",
      "   0.02084348  0.04799204  0.01843948  0.00634624  0.01365648  0.01311927\n",
      "   0.02339642  0.11741142  0.00976253  0.01768353  0.01453859  0.05489423\n",
      "   0.01004529  0.00449029  0.02105397  0.00550207  0.05112619  0.02883563\n",
      "   0.05774292  0.00480784  0.04062595  0.00292632  0.0969478   0.01547325\n",
      "   0.01732507  0.01887388  0.05096025  0.00173963  0.05552327]]\n",
      "35\n"
     ]
    }
   ],
   "source": [
    "#Test the forward pass\n",
    "x = np.random.normal(0,1, (1, 3,224,224)).astype('float32') #dummy data\n",
    "\n",
    "model = lasagne.layers.get_output(output_layer, sym_x)\n",
    "out = model.eval({sym_x:x}) #this could also include mask etc if used\n",
    "print(\"l_out\", out.shape)\n",
    "print(out)\n",
    "print(len(out[0]))"
   ]
  },
  {
   "cell_type": "code",
   "execution_count": 25,
   "metadata": {
    "collapsed": false
   },
   "outputs": [],
   "source": [
    "#Create dict which goes from category ID to target vector\n",
    "plentifulCategories = trainList[1]\n",
    "targets = np.arange(len(plentifulCategories)).astype(np.int32)\n",
    "catIdToTargetDict = {x:y for x, y in zip(plentifulCategories, targets)}\n",
    "#for i in range(len(plentifulCategories)):\n",
    "#    target = np.zeros(len(plentifulCategories))\n",
    "#    target[i] = 1\n",
    "#    catIdToTargetDict[plentifulCategories[i]] = target\n",
    "\n",
    "#Create function which reads images based on file names and puts them all into a numpy array\n",
    "def imgReader(directory, fileNames, imageShape, MEAN_IMAGE):\n",
    "    imgArray = np.zeros((len(fileNames),imageShape[0],imageShape[1],imageShape[2]))\n",
    "    for i in range(len(fileNames)):\n",
    "        img = io.imread('%s/%s'%(directory,fileNames[i]))\n",
    "        img = np.transpose(img,(2,0,1))\n",
    "        imgArray[i,:,:,:] = img - MEAN_IMAGE\n",
    "    return imgArray.astype(np.float32)\n",
    "        "
   ]
  },
  {
   "cell_type": "code",
   "execution_count": 26,
   "metadata": {
    "collapsed": false
   },
   "outputs": [
    {
     "name": "stdout",
     "output_type": "stream",
     "text": [
      "0.0\n",
      "6.49350649351\n",
      "12.987012987\n",
      "19.4805194805\n",
      "25.974025974\n",
      "32.4675324675\n",
      "38.961038961\n",
      "45.4545454545\n",
      "51.9480519481\n",
      "58.4415584416\n",
      "64.9350649351\n",
      "71.4285714286\n",
      "77.9220779221\n",
      "84.4155844156\n",
      "90.9090909091\n",
      "97.4025974026\n",
      "1 loop done\n",
      "0.0\n",
      "3.24675324675\n",
      "6.49350649351\n",
      "9.74025974026\n",
      "12.987012987\n",
      "16.2337662338\n",
      "19.4805194805\n",
      "22.7272727273\n",
      "25.974025974\n",
      "29.2207792208\n",
      "32.4675324675\n",
      "35.7142857143\n",
      "38.961038961\n",
      "42.2077922078\n",
      "45.4545454545\n",
      "48.7012987013\n",
      "51.9480519481\n",
      "55.1948051948\n",
      "58.4415584416\n",
      "61.6883116883\n",
      "64.9350649351\n",
      "68.1818181818\n",
      "71.4285714286\n",
      "74.6753246753\n",
      "77.9220779221\n",
      "81.1688311688\n",
      "84.4155844156\n",
      "87.6623376623\n",
      "90.9090909091\n",
      "94.1558441558\n",
      "97.4025974026\n",
      "2 loop done\n",
      "0.0\n",
      "6.49350649351\n",
      "12.987012987\n",
      "19.4805194805\n",
      "25.974025974\n",
      "32.4675324675\n",
      "38.961038961\n",
      "45.4545454545\n",
      "51.9480519481\n",
      "58.4415584416\n",
      "64.9350649351\n",
      "71.4285714286\n",
      "77.9220779221\n",
      "84.4155844156\n",
      "90.9090909091\n",
      "97.4025974026\n",
      "103.896103896\n",
      "110.38961039\n",
      "116.883116883\n",
      "123.376623377\n",
      "129.87012987\n",
      "136.363636364\n",
      "142.857142857\n",
      "149.350649351\n",
      "155.844155844\n",
      "162.337662338\n",
      "168.831168831\n",
      "175.324675325\n",
      "181.818181818\n",
      "188.311688312\n",
      "194.805194805\n",
      "3 loop done\n",
      "0.0\n",
      "6.49350649351\n",
      "12.987012987\n",
      "19.4805194805\n",
      "25.974025974\n",
      "32.4675324675\n",
      "38.961038961\n",
      "45.4545454545\n",
      "51.9480519481\n",
      "58.4415584416\n",
      "64.9350649351\n",
      "71.4285714286\n",
      "77.9220779221\n",
      "84.4155844156\n",
      "90.9090909091\n",
      "97.4025974026\n",
      "4 loop done\n",
      "Epoch 1 : Train Loss 2.119914e+01 , Train acc 0.070455,  Valid acc 0.059091 \n",
      "0.0\n",
      "6.49350649351\n",
      "12.987012987\n",
      "19.4805194805\n",
      "25.974025974\n",
      "32.4675324675\n",
      "38.961038961\n",
      "45.4545454545\n",
      "51.9480519481\n",
      "58.4415584416\n",
      "64.9350649351\n",
      "71.4285714286\n",
      "77.9220779221\n",
      "84.4155844156\n",
      "90.9090909091\n",
      "97.4025974026\n",
      "1 loop done\n",
      "0.0\n",
      "3.24675324675\n",
      "6.49350649351\n",
      "9.74025974026\n",
      "12.987012987\n"
     ]
    },
    {
     "ename": "ValueError",
     "evalue": "x and y must have same first dimension",
     "output_type": "error",
     "traceback": [
      "\u001b[0;31m---------------------------------------------------------------------------\u001b[0m",
      "\u001b[0;31mValueError\u001b[0m                                Traceback (most recent call last)",
      "\u001b[0;32m<ipython-input-26-88e3ff6513a8>\u001b[0m in \u001b[0;36m<module>\u001b[0;34m()\u001b[0m\n\u001b[1;32m    109\u001b[0m \u001b[0;34m\u001b[0m\u001b[0m\n\u001b[1;32m    110\u001b[0m \u001b[0mplt\u001b[0m\u001b[0;34m.\u001b[0m\u001b[0mfigure\u001b[0m\u001b[0;34m(\u001b[0m\u001b[0;34m)\u001b[0m\u001b[0;34m\u001b[0m\u001b[0m\n\u001b[0;32m--> 111\u001b[0;31m \u001b[0mplt\u001b[0m\u001b[0;34m.\u001b[0m\u001b[0mplot\u001b[0m\u001b[0;34m(\u001b[0m\u001b[0mepoch\u001b[0m\u001b[0;34m,\u001b[0m\u001b[0mloss\u001b[0m\u001b[0;34m,\u001b[0m\u001b[0;34m'r'\u001b[0m\u001b[0;34m,\u001b[0m\u001b[0mepoch\u001b[0m\u001b[0;34m,\u001b[0m\u001b[0mloss_valid\u001b[0m\u001b[0;34m,\u001b[0m\u001b[0;34m'b'\u001b[0m\u001b[0;34m)\u001b[0m\u001b[0;34m\u001b[0m\u001b[0m\n\u001b[0m\u001b[1;32m    112\u001b[0m \u001b[0mplt\u001b[0m\u001b[0;34m.\u001b[0m\u001b[0mlegend\u001b[0m\u001b[0;34m(\u001b[0m\u001b[0;34m[\u001b[0m\u001b[0;34m'Train Loss'\u001b[0m\u001b[0;34m,\u001b[0m\u001b[0;34m'Val Loss'\u001b[0m\u001b[0;34m]\u001b[0m\u001b[0;34m)\u001b[0m\u001b[0;34m\u001b[0m\u001b[0m\n\u001b[1;32m    113\u001b[0m \u001b[0mplt\u001b[0m\u001b[0;34m.\u001b[0m\u001b[0mxlabel\u001b[0m\u001b[0;34m(\u001b[0m\u001b[0;34m'Epochs'\u001b[0m\u001b[0;34m)\u001b[0m\u001b[0;34m,\u001b[0m \u001b[0mplt\u001b[0m\u001b[0;34m.\u001b[0m\u001b[0mylabel\u001b[0m\u001b[0;34m(\u001b[0m\u001b[0;34m'Loss'\u001b[0m\u001b[0;34m)\u001b[0m\u001b[0;34m,\u001b[0m \u001b[0mplt\u001b[0m\u001b[0;34m.\u001b[0m\u001b[0mylim\u001b[0m\u001b[0;34m(\u001b[0m\u001b[0;34m[\u001b[0m\u001b[0;36m0\u001b[0m\u001b[0;34m,\u001b[0m\u001b[0;36m0.2\u001b[0m\u001b[0;34m]\u001b[0m\u001b[0;34m)\u001b[0m\u001b[0;34m\u001b[0m\u001b[0m\n",
      "\u001b[0;32m/usr/local/lib/python2.7/dist-packages/matplotlib/pyplot.pyc\u001b[0m in \u001b[0;36mplot\u001b[0;34m(*args, **kwargs)\u001b[0m\n\u001b[1;32m   3159\u001b[0m         \u001b[0max\u001b[0m\u001b[0;34m.\u001b[0m\u001b[0mhold\u001b[0m\u001b[0;34m(\u001b[0m\u001b[0mhold\u001b[0m\u001b[0;34m)\u001b[0m\u001b[0;34m\u001b[0m\u001b[0m\n\u001b[1;32m   3160\u001b[0m     \u001b[0;32mtry\u001b[0m\u001b[0;34m:\u001b[0m\u001b[0;34m\u001b[0m\u001b[0m\n\u001b[0;32m-> 3161\u001b[0;31m         \u001b[0mret\u001b[0m \u001b[0;34m=\u001b[0m \u001b[0max\u001b[0m\u001b[0;34m.\u001b[0m\u001b[0mplot\u001b[0m\u001b[0;34m(\u001b[0m\u001b[0;34m*\u001b[0m\u001b[0margs\u001b[0m\u001b[0;34m,\u001b[0m \u001b[0;34m**\u001b[0m\u001b[0mkwargs\u001b[0m\u001b[0;34m)\u001b[0m\u001b[0;34m\u001b[0m\u001b[0m\n\u001b[0m\u001b[1;32m   3162\u001b[0m     \u001b[0;32mfinally\u001b[0m\u001b[0;34m:\u001b[0m\u001b[0;34m\u001b[0m\u001b[0m\n\u001b[1;32m   3163\u001b[0m         \u001b[0max\u001b[0m\u001b[0;34m.\u001b[0m\u001b[0mhold\u001b[0m\u001b[0;34m(\u001b[0m\u001b[0mwashold\u001b[0m\u001b[0;34m)\u001b[0m\u001b[0;34m\u001b[0m\u001b[0m\n",
      "\u001b[0;32m/usr/local/lib/python2.7/dist-packages/matplotlib/__init__.pyc\u001b[0m in \u001b[0;36minner\u001b[0;34m(ax, *args, **kwargs)\u001b[0m\n\u001b[1;32m   1817\u001b[0m                     warnings.warn(msg % (label_namer, func.__name__),\n\u001b[1;32m   1818\u001b[0m                                   RuntimeWarning, stacklevel=2)\n\u001b[0;32m-> 1819\u001b[0;31m             \u001b[0;32mreturn\u001b[0m \u001b[0mfunc\u001b[0m\u001b[0;34m(\u001b[0m\u001b[0max\u001b[0m\u001b[0;34m,\u001b[0m \u001b[0;34m*\u001b[0m\u001b[0margs\u001b[0m\u001b[0;34m,\u001b[0m \u001b[0;34m**\u001b[0m\u001b[0mkwargs\u001b[0m\u001b[0;34m)\u001b[0m\u001b[0;34m\u001b[0m\u001b[0m\n\u001b[0m\u001b[1;32m   1820\u001b[0m         \u001b[0mpre_doc\u001b[0m \u001b[0;34m=\u001b[0m \u001b[0minner\u001b[0m\u001b[0;34m.\u001b[0m\u001b[0m__doc__\u001b[0m\u001b[0;34m\u001b[0m\u001b[0m\n\u001b[1;32m   1821\u001b[0m         \u001b[0;32mif\u001b[0m \u001b[0mpre_doc\u001b[0m \u001b[0;32mis\u001b[0m \u001b[0mNone\u001b[0m\u001b[0;34m:\u001b[0m\u001b[0;34m\u001b[0m\u001b[0m\n",
      "\u001b[0;32m/usr/local/lib/python2.7/dist-packages/matplotlib/axes/_axes.pyc\u001b[0m in \u001b[0;36mplot\u001b[0;34m(self, *args, **kwargs)\u001b[0m\n\u001b[1;32m   1380\u001b[0m         \u001b[0mkwargs\u001b[0m \u001b[0;34m=\u001b[0m \u001b[0mcbook\u001b[0m\u001b[0;34m.\u001b[0m\u001b[0mnormalize_kwargs\u001b[0m\u001b[0;34m(\u001b[0m\u001b[0mkwargs\u001b[0m\u001b[0;34m,\u001b[0m \u001b[0m_alias_map\u001b[0m\u001b[0;34m)\u001b[0m\u001b[0;34m\u001b[0m\u001b[0m\n\u001b[1;32m   1381\u001b[0m \u001b[0;34m\u001b[0m\u001b[0m\n\u001b[0;32m-> 1382\u001b[0;31m         \u001b[0;32mfor\u001b[0m \u001b[0mline\u001b[0m \u001b[0;32min\u001b[0m \u001b[0mself\u001b[0m\u001b[0;34m.\u001b[0m\u001b[0m_get_lines\u001b[0m\u001b[0;34m(\u001b[0m\u001b[0;34m*\u001b[0m\u001b[0margs\u001b[0m\u001b[0;34m,\u001b[0m \u001b[0;34m**\u001b[0m\u001b[0mkwargs\u001b[0m\u001b[0;34m)\u001b[0m\u001b[0;34m:\u001b[0m\u001b[0;34m\u001b[0m\u001b[0m\n\u001b[0m\u001b[1;32m   1383\u001b[0m             \u001b[0mself\u001b[0m\u001b[0;34m.\u001b[0m\u001b[0madd_line\u001b[0m\u001b[0;34m(\u001b[0m\u001b[0mline\u001b[0m\u001b[0;34m)\u001b[0m\u001b[0;34m\u001b[0m\u001b[0m\n\u001b[1;32m   1384\u001b[0m             \u001b[0mlines\u001b[0m\u001b[0;34m.\u001b[0m\u001b[0mappend\u001b[0m\u001b[0;34m(\u001b[0m\u001b[0mline\u001b[0m\u001b[0;34m)\u001b[0m\u001b[0;34m\u001b[0m\u001b[0m\n",
      "\u001b[0;32m/usr/local/lib/python2.7/dist-packages/matplotlib/axes/_base.pyc\u001b[0m in \u001b[0;36m_grab_next_args\u001b[0;34m(self, *args, **kwargs)\u001b[0m\n\u001b[1;32m    379\u001b[0m                 \u001b[0;32mreturn\u001b[0m\u001b[0;34m\u001b[0m\u001b[0m\n\u001b[1;32m    380\u001b[0m             \u001b[0;32mif\u001b[0m \u001b[0mlen\u001b[0m\u001b[0;34m(\u001b[0m\u001b[0mremaining\u001b[0m\u001b[0;34m)\u001b[0m \u001b[0;34m<=\u001b[0m \u001b[0;36m3\u001b[0m\u001b[0;34m:\u001b[0m\u001b[0;34m\u001b[0m\u001b[0m\n\u001b[0;32m--> 381\u001b[0;31m                 \u001b[0;32mfor\u001b[0m \u001b[0mseg\u001b[0m \u001b[0;32min\u001b[0m \u001b[0mself\u001b[0m\u001b[0;34m.\u001b[0m\u001b[0m_plot_args\u001b[0m\u001b[0;34m(\u001b[0m\u001b[0mremaining\u001b[0m\u001b[0;34m,\u001b[0m \u001b[0mkwargs\u001b[0m\u001b[0;34m)\u001b[0m\u001b[0;34m:\u001b[0m\u001b[0;34m\u001b[0m\u001b[0m\n\u001b[0m\u001b[1;32m    382\u001b[0m                     \u001b[0;32myield\u001b[0m \u001b[0mseg\u001b[0m\u001b[0;34m\u001b[0m\u001b[0m\n\u001b[1;32m    383\u001b[0m                 \u001b[0;32mreturn\u001b[0m\u001b[0;34m\u001b[0m\u001b[0m\n",
      "\u001b[0;32m/usr/local/lib/python2.7/dist-packages/matplotlib/axes/_base.pyc\u001b[0m in \u001b[0;36m_plot_args\u001b[0;34m(self, tup, kwargs)\u001b[0m\n\u001b[1;32m    357\u001b[0m             \u001b[0mx\u001b[0m\u001b[0;34m,\u001b[0m \u001b[0my\u001b[0m \u001b[0;34m=\u001b[0m \u001b[0mindex_of\u001b[0m\u001b[0;34m(\u001b[0m\u001b[0mtup\u001b[0m\u001b[0;34m[\u001b[0m\u001b[0;34m-\u001b[0m\u001b[0;36m1\u001b[0m\u001b[0;34m]\u001b[0m\u001b[0;34m)\u001b[0m\u001b[0;34m\u001b[0m\u001b[0m\n\u001b[1;32m    358\u001b[0m \u001b[0;34m\u001b[0m\u001b[0m\n\u001b[0;32m--> 359\u001b[0;31m         \u001b[0mx\u001b[0m\u001b[0;34m,\u001b[0m \u001b[0my\u001b[0m \u001b[0;34m=\u001b[0m \u001b[0mself\u001b[0m\u001b[0;34m.\u001b[0m\u001b[0m_xy_from_xy\u001b[0m\u001b[0;34m(\u001b[0m\u001b[0mx\u001b[0m\u001b[0;34m,\u001b[0m \u001b[0my\u001b[0m\u001b[0;34m)\u001b[0m\u001b[0;34m\u001b[0m\u001b[0m\n\u001b[0m\u001b[1;32m    360\u001b[0m \u001b[0;34m\u001b[0m\u001b[0m\n\u001b[1;32m    361\u001b[0m         \u001b[0;32mif\u001b[0m \u001b[0mself\u001b[0m\u001b[0;34m.\u001b[0m\u001b[0mcommand\u001b[0m \u001b[0;34m==\u001b[0m \u001b[0;34m'plot'\u001b[0m\u001b[0;34m:\u001b[0m\u001b[0;34m\u001b[0m\u001b[0m\n",
      "\u001b[0;32m/usr/local/lib/python2.7/dist-packages/matplotlib/axes/_base.pyc\u001b[0m in \u001b[0;36m_xy_from_xy\u001b[0;34m(self, x, y)\u001b[0m\n\u001b[1;32m    217\u001b[0m         \u001b[0my\u001b[0m \u001b[0;34m=\u001b[0m \u001b[0m_check_1d\u001b[0m\u001b[0;34m(\u001b[0m\u001b[0my\u001b[0m\u001b[0;34m)\u001b[0m\u001b[0;34m\u001b[0m\u001b[0m\n\u001b[1;32m    218\u001b[0m         \u001b[0;32mif\u001b[0m \u001b[0mx\u001b[0m\u001b[0;34m.\u001b[0m\u001b[0mshape\u001b[0m\u001b[0;34m[\u001b[0m\u001b[0;36m0\u001b[0m\u001b[0;34m]\u001b[0m \u001b[0;34m!=\u001b[0m \u001b[0my\u001b[0m\u001b[0;34m.\u001b[0m\u001b[0mshape\u001b[0m\u001b[0;34m[\u001b[0m\u001b[0;36m0\u001b[0m\u001b[0;34m]\u001b[0m\u001b[0;34m:\u001b[0m\u001b[0;34m\u001b[0m\u001b[0m\n\u001b[0;32m--> 219\u001b[0;31m             \u001b[0;32mraise\u001b[0m \u001b[0mValueError\u001b[0m\u001b[0;34m(\u001b[0m\u001b[0;34m\"x and y must have same first dimension\"\u001b[0m\u001b[0;34m)\u001b[0m\u001b[0;34m\u001b[0m\u001b[0m\n\u001b[0m\u001b[1;32m    220\u001b[0m         \u001b[0;32mif\u001b[0m \u001b[0mx\u001b[0m\u001b[0;34m.\u001b[0m\u001b[0mndim\u001b[0m \u001b[0;34m>\u001b[0m \u001b[0;36m2\u001b[0m \u001b[0;32mor\u001b[0m \u001b[0my\u001b[0m\u001b[0;34m.\u001b[0m\u001b[0mndim\u001b[0m \u001b[0;34m>\u001b[0m \u001b[0;36m2\u001b[0m\u001b[0;34m:\u001b[0m\u001b[0;34m\u001b[0m\u001b[0m\n\u001b[1;32m    221\u001b[0m             \u001b[0;32mraise\u001b[0m \u001b[0mValueError\u001b[0m\u001b[0;34m(\u001b[0m\u001b[0;34m\"x and y can be no greater than 2-D\"\u001b[0m\u001b[0;34m)\u001b[0m\u001b[0;34m\u001b[0m\u001b[0m\n",
      "\u001b[0;31mValueError\u001b[0m: x and y must have same first dimension"
     ]
    },
    {
     "data": {
      "image/png": "[encoded data removed]",
      "text/plain": [
       "<matplotlib.figure.Figure at 0x7f3eb5c3f490>"
      ]
     },
     "metadata": {},
     "output_type": "display_data"
    },
    {
     "data": {
      "image/png": "[encoded data removed]",
      "text/plain": [
       "<matplotlib.figure.Figure at 0x7f3ed544bc10>"
      ]
     },
     "metadata": {},
     "output_type": "display_data"
    }
   ],
   "source": [
    "#Training Loop\n",
    "from confusionmatrix import ConfusionMatrix\n",
    "batch_size = 50\n",
    "batch_size_valid = 10\n",
    "num_epochs = 4\n",
    "num_samples_train = len(trainDict)#x_train.shape[0]\n",
    "num_batches_train = num_samples_train // batch_size\n",
    "num_samples_valid = len(valDict)#x_valid.shape[0]\n",
    "num_batches_valid = num_samples_valid // batch_size\n",
    "num_classes = len(trainList[1])\n",
    "\n",
    "fileNames_train = np.array([x[1] for x in trainDict.values()])\n",
    "targets_train = np.array([catIdToTargetDict[x[0]] for x in trainDict.values()])\n",
    "fileNames_valid = np.array([x[1] for x in valDict.values()])\n",
    "targets_valid = np.array([catIdToTargetDict[x[0]] for x in valDict.values()])\n",
    "imageShape = [3,224,224]\n",
    "\n",
    "\n",
    "train_acc, train_loss = [], []\n",
    "valid_acc, valid_loss = [], []\n",
    "test_acc, test_loss = [], []\n",
    "cur_loss = 0\n",
    "loss = []\n",
    "loss_valid = []\n",
    "try:\n",
    "    for epoch in range(num_epochs):\n",
    "        \n",
    "        #Own code\n",
    "        cur_loss_d = 0\n",
    "        for i in range(num_batches_valid):\n",
    "            if i%10 == 0:\n",
    "                print i/float(num_batches_valid)*100\n",
    "            #print(i/float(num_batches_valid)*100)\n",
    "            idx_d = range(i*batch_size_valid, (i+1)*batch_size_valid)\n",
    "            filenames_batch_d = fileNames_valid[idx_d]\n",
    "            x_batch_d = imgReader('../../coco/val2014', filenames_batch_d,imageShape, MEAN_IMAGE)\n",
    "            target_batch_d = targets_valid[idx_d]    \n",
    "            batch_loss_d = f_val(x_batch_d,target_batch_d)\n",
    "            cur_loss_d += batch_loss_d[0]\n",
    "        loss_valid += [cur_loss_d/batch_size_valid]\n",
    "        print \"1 loop done\"\n",
    "        #Forward->Backprob->Update params\n",
    "        cur_loss = 0\n",
    "        for i in range(num_batches_train):\n",
    "            if i%10 == 0:\n",
    "                print i/float(num_batches_train)*100\n",
    "            #print(i/float(num_batches_train)*100)\n",
    "            idx = range(i*batch_size, (i+1)*batch_size)\n",
    "            filenames_batch = fileNames_train[idx]\n",
    "            x_batch = imgReader('../../coco/train2014', filenames_batch, imageShape, MEAN_IMAGE)\n",
    "            target_batch = targets_train[idx]    \n",
    "            batch_loss = f_train(x_batch,target_batch) #this will do the complete backprob pass\n",
    "            cur_loss += batch_loss[0]\n",
    "        loss += [cur_loss/batch_size]\n",
    "        print \"2 loop done\"\n",
    "\n",
    "        confusion_valid = ConfusionMatrix(num_classes)\n",
    "        confusion_train = ConfusionMatrix(num_classes)\n",
    "\n",
    "        for i in range(num_batches_train):\n",
    "            if i%10 == 0:\n",
    "                print i/float(num_batches_valid)*100\n",
    "            #print(i/float(num_batches_train)*100)\n",
    "            idx = range(i*batch_size, (i+1)*batch_size)\n",
    "            filenames_batch = fileNames_train[idx]\n",
    "            x_batch = imgReader('../../coco/train2014', filenames_batch, imageShape, MEAN_IMAGE)\n",
    "            targets_batch = targets_train[idx]\n",
    "            net_out = f_eval(x_batch)   \n",
    "            preds = np.argmax(net_out, axis=-1) \n",
    "            confusion_train.batch_add(targets_batch, preds)\n",
    "        print \"3 loop done\"\n",
    "        confusion_valid = ConfusionMatrix(num_classes)\n",
    "        for i in range(num_batches_valid):\n",
    "            if i%10 == 0:\n",
    "                print i/float(num_batches_valid)*100\n",
    "            #print(i/float(num_batches_valid)*100)\n",
    "            idx = range(i*batch_size_valid, (i+1)*batch_size_valid)\n",
    "            filenames_batch_d = fileNames_valid[idx_d]\n",
    "            x_batch = imgReader('../../coco/val2014', filenames_batch_d,imageShape, MEAN_IMAGE)\n",
    "            targets_batch = targets_valid[idx]\n",
    "            net_out = f_eval(x_batch)   \n",
    "            preds = np.argmax(net_out, axis=-1) \n",
    "\n",
    "            confusion_valid.batch_add(targets_batch, preds)\n",
    "        print \"4 loop done\"\n",
    "        train_acc_cur = confusion_train.accuracy()\n",
    "        valid_acc_cur = confusion_valid.accuracy()\n",
    "\n",
    "        train_acc += [train_acc_cur]\n",
    "        valid_acc += [valid_acc_cur]\n",
    "        print \"Epoch %i : Train Loss %e , Train acc %f,  Valid acc %f \" \\\n",
    "        % (epoch+1, loss[-1], train_acc_cur, valid_acc_cur)\n",
    "except KeyboardInterrupt:\n",
    "    pass\n",
    "    \n",
    "\n",
    "#get test set score\n",
    "#confusion_test = ConfusionMatrix(num_classes)\n",
    "#net_out = f_eval(x_test)    \n",
    "#preds = np.argmax(net_out, axis=-1) \n",
    "#confusion_test.batch_add(targets_test, preds)\n",
    "#print \"\\nTest set Acc:  %f\" %(confusion_test.accuracy())\n",
    "\n",
    "\n",
    "epoch = np.arange(len(train_acc))\n",
    "plt.figure()\n",
    "plt.plot(epoch,train_acc,'r',epoch,valid_acc,'b')\n",
    "plt.legend(['Train Acc','Val Acc'])\n",
    "plt.xlabel('Epochs'), plt.ylabel('Acc'), plt.ylim([0.75,1.03])\n",
    "\n",
    "plt.figure()\n",
    "plt.plot(epoch,loss,'r',epoch,loss_valid,'b')\n",
    "plt.legend(['Train Loss','Val Loss'])\n",
    "plt.xlabel('Epochs'), plt.ylabel('Loss'), plt.ylim([0,0.2])"
   ]
  },
  {
   "cell_type": "code",
   "execution_count": null,
   "metadata": {
    "collapsed": false
   },
   "outputs": [],
   "source": [
    "epoch = np.arange(len(train_acc))\n",
    "plt.figure()\n",
    "plt.plot(epoch,train_acc,'r',epoch,valid_acc,'b')\n",
    "plt.legend(['Train Acc','Val Acc'])\n",
    "plt.xlabel('Epochs'), plt.ylabel('Acc'), plt.ylim([0, 0.1])\n",
    "\n",
    "plt.figure()\n",
    "plt.plot(epoch,loss,'r',epoch,loss_valid,'b')\n",
    "plt.legend(['Train Loss','Val Loss'])\n",
    "plt.xlabel('Epochs'), plt.ylabel('Loss'), plt.ylim([0,30])"
   ]
  },
  {
   "cell_type": "code",
   "execution_count": null,
   "metadata": {
    "collapsed": true
   },
   "outputs": [],
   "source": [
    "#yo = os.listdir('../../coco/val2014')\n",
    "#'COCO_val2014_000000458311.jpg' in yo\n",
    "#print(\"val\" in 'COCO_val2014_000000458311.jpg')\n",
    "#for i in range(len(fileNames_train)):\n",
    "#    if \"val\" in fileNames_train[i]:\n",
    "#        print(i)"
   ]
  },
  {
   "cell_type": "markdown",
   "metadata": {
    "collapsed": false
   },
   "source": [
    "### Load the model parameters and metadata"
   ]
  },
  {
   "cell_type": "code",
   "execution_count": 24,
   "metadata": {
    "collapsed": false
   },
   "outputs": [
    {
     "data": {
      "text/plain": [
       "(3, 224, 224)"
      ]
     },
     "execution_count": 24,
     "metadata": {},
     "output_type": "execute_result"
    }
   ],
   "source": [
    "MEAN_IMAGE[:,:,:].shape"
   ]
  },
  {
   "cell_type": "code",
   "execution_count": null,
   "metadata": {
    "collapsed": false
   },
   "outputs": [],
   "source": [
    "model[\"values\"][0].shape"
   ]
  },
  {
   "cell_type": "markdown",
   "metadata": {
    "collapsed": false
   },
   "source": [
    "# Trying it out\n",
    "\n",
    "### Get some test images\n",
    "We'll download the ILSVRC2012 validation URLs and pick a few at random"
   ]
  },
  {
   "cell_type": "code",
   "execution_count": null,
   "metadata": {
    "collapsed": false
   },
   "outputs": [],
   "source": [
    "import urllib\n",
    "\n",
    "index = urllib.urlopen('http://www.image-net.org/challenges/LSVRC/2012/ori_urls/indexval.html').read()\n",
    "image_urls = index.split('<br>')\n",
    "\n",
    "np.random.seed(25)\n",
    "np.random.shuffle(image_urls)\n",
    "image_urls = image_urls[:5]"
   ]
  },
  {
   "cell_type": "code",
   "execution_count": null,
   "metadata": {
    "collapsed": false
   },
   "outputs": [],
   "source": [
    "image_urls = [\"http://farm1.staticflickr.com/15/22703851_729cd2cd04.jpg\"]"
   ]
  },
  {
   "cell_type": "markdown",
   "metadata": {},
   "source": [
    "### Helper to fetch and preprocess images"
   ]
  },
  {
   "cell_type": "code",
   "execution_count": null,
   "metadata": {
    "collapsed": false
   },
   "outputs": [],
   "source": [
    "import io\n",
    "import skimage.transform\n",
    "\n",
    "def prep_image(url):\n",
    "    ext = url.split('.')[-1]\n",
    "    im = plt.imread(io.BytesIO(urllib.urlopen(url).read()), ext)\n",
    "    # Resize so smallest dim = 256, preserving aspect ratio\n",
    "    h, w, _ = im.shape\n",
    "    if h < w:\n",
    "        im = skimage.transform.resize(im, (256, w*256/h), preserve_range=True)\n",
    "    else:\n",
    "        im = skimage.transform.resize(im, (h*256/w, 256), preserve_range=True)\n",
    "\n",
    "    # Central crop to 224x224\n",
    "    h, w, _ = im.shape\n",
    "    im = im[h//2-112:h//2+112, w//2-112:w//2+112]\n",
    "    \n",
    "    rawim = np.copy(im).astype('uint8')\n",
    "    \n",
    "    # Shuffle axes to c01\n",
    "    im = np.swapaxes(np.swapaxes(im, 1, 2), 0, 1)\n",
    "    \n",
    "    # Convert to BGR\n",
    "    im = im[::-1, :, :]\n",
    "\n",
    "    im = im - MEAN_IMAGE\n",
    "    return rawim, floatX(im[np.newaxis])"
   ]
  },
  {
   "cell_type": "markdown",
   "metadata": {},
   "source": [
    "### Process test images and print top 5 predicted labels"
   ]
  },
  {
   "cell_type": "code",
   "execution_count": null,
   "metadata": {
    "collapsed": false
   },
   "outputs": [],
   "source": [
    "import skimage.io as io\n",
    "for url in image_urls:\n",
    "    try:\n",
    "        #rawim, im = prep_image(url)\n",
    "        im = io.imread('%s/%s/%s'%(dataDir,'train2014',allFiles[16]))\n",
    "        rawim = np.copy(im).astype('uint8')\n",
    "        im = np.transpose(im,(2,0,1))\n",
    "        im = np.reshape(im,(1,3,224,224))\n",
    "        print(im.shape)\n",
    "        im = im - MEAN_IMAGE\n",
    "        prob = np.array(lasagne.layers.get_output(output_layer, im, deterministic=True).eval())\n",
    "        top5 = np.argsort(prob[0])[-1:-6:-1]\n",
    "\n",
    "        plt.figure()\n",
    "        plt.imshow(rawim.astype('uint8'))\n",
    "        plt.axis('off')\n",
    "        for n, label in enumerate(top5):\n",
    "            plt.text(250, 70 + n * 20, '{}. {}'.format(n+1, CLASSES[label]), fontsize=14)\n",
    "    except IOError:\n",
    "        print('bad url: ' + url)"
   ]
  },
  {
   "cell_type": "code",
   "execution_count": null,
   "metadata": {
    "collapsed": false
   },
   "outputs": [],
   "source": [
    "print(CLASSES)"
   ]
  },
  {
   "cell_type": "code",
   "execution_count": null,
   "metadata": {
    "collapsed": true
   },
   "outputs": [],
   "source": []
  }
 ],
 "metadata": {
  "kernelspec": {
   "display_name": "Python 2",
   "language": "python",
   "name": "python2"
  },
  "language_info": {
   "codemirror_mode": {
    "name": "ipython",
    "version": 2
   },
   "file_extension": ".py",
   "mimetype": "text/x-python",
   "name": "python",
   "nbconvert_exporter": "python",
   "pygments_lexer": "ipython2",
   "version": "2.7.6"
  }
 },
 "nbformat": 4,
 "nbformat_minor": 0
}
